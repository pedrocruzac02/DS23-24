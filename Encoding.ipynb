{
 "cells": [
  {
   "cell_type": "code",
   "execution_count": 1,
   "metadata": {},
   "outputs": [],
   "source": [
    "from pandas import read_csv, DataFrame\n",
    "\n",
    "filename = \"dataset/class_pos_covid.csv\"\n",
    "file_tag = \"class_pos_covid\"\n",
    "data: DataFrame = read_csv(filename, na_values=\"\")"
   ]
  },
  {
   "cell_type": "markdown",
   "metadata": {},
   "source": [
    "**numeric** = ['PhysicalHealthDays', 'MentalHealthDays', 'SleepHours', 'HeightInMeters', 'WeightInKilograms', 'BMI']"
   ]
  },
  {
   "cell_type": "markdown",
   "metadata": {},
   "source": [
    "**symbolic** = ['State', 'GeneralHealth', 'LastCheckupTime', 'RemovedTeeth', 'HadDiabetes', 'SmokerStatus', 'ECigaretteUsage', 'RaceEthnicityCategory', 'AgeCategory', 'TetanusLast10Tdap']"
   ]
  },
  {
   "cell_type": "markdown",
   "metadata": {},
   "source": [
    "**binary** = ['Sex', 'PhysicalActivities', 'HadHeartAttack', 'HadAngina', 'HadStroke', 'HadAsthma', 'HadSkinCancer', 'HadCOPD', 'HadDepressiveDisorder', 'HadKidneyDisease', 'HadArthritis', 'DeafOrHardOfHearing', 'BlindOrVisionDifficulty', 'DifficultyConcentrating', 'DifficultyWalking', 'DifficultyDressingBathing', 'DifficultyErrands', 'ChestScan', 'AlcoholDrinkers', 'HIVTesting', 'FluVaxLast12', 'PneumoVaxEver', 'HighRiskLastYear', 'CovidPos']"
   ]
  },
  {
   "cell_type": "code",
   "execution_count": 3,
   "metadata": {},
   "outputs": [
    {
     "data": {
      "text/plain": [
       "(380932, 40)"
      ]
     },
     "execution_count": 3,
     "metadata": {},
     "output_type": "execute_result"
    }
   ],
   "source": [
    "# Binary Variables - Ordinal/Binary Encoding \n",
    "binary = ['Sex', 'PhysicalActivities', 'HadHeartAttack', 'HadAngina', 'HadStroke', 'HadAsthma', 'HadSkinCancer', 'HadCOPD', 'HadDepressiveDisorder', 'HadKidneyDisease', 'HadArthritis', 'DeafOrHardOfHearing', 'BlindOrVisionDifficulty', 'DifficultyConcentrating', 'DifficultyWalking', 'DifficultyDressingBathing', 'DifficultyErrands', 'ChestScan', 'AlcoholDrinkers', 'HIVTesting', 'FluVaxLast12', 'PneumoVaxEver', 'HighRiskLastYear', 'CovidPos']\n",
    "\n",
    "yes_no: dict[str, int] = {\"no\": 0, \"No\": 0, \"yes\": 1, \"Yes\": 1,\"Male\": 0, \"Female\":1}\n",
    "encoding: dict[str, dict[str, int]] = {}\n",
    "for var in binary:\n",
    "    encoding[var] = yes_no\n",
    "df: DataFrame = data.replace(encoding, inplace=False)\n",
    "df.shape"
   ]
  },
  {
   "cell_type": "code",
   "execution_count": 3,
   "metadata": {},
   "outputs": [
    {
     "data": {
      "text/plain": [
       "array(['Yes, received tetanus shot but not sure what type',\n",
       "       'No, did not receive any tetanus shot in the past 10 years', nan,\n",
       "       'Yes, received Tdap', 'Yes, received tetanus shot, but not Tdap'],\n",
       "      dtype=object)"
      ]
     },
     "execution_count": 3,
     "metadata": {},
     "output_type": "execute_result"
    }
   ],
   "source": [
    "data['TetanusLast10Tdap'].unique()"
   ]
  },
  {
   "cell_type": "code",
   "execution_count": 4,
   "metadata": {},
   "outputs": [
    {
     "data": {
      "text/plain": [
       "(380932, 40)"
      ]
     },
     "execution_count": 4,
     "metadata": {},
     "output_type": "execute_result"
    }
   ],
   "source": [
    "# GeneralHealth - Ordinal Encoding based on Taxonomy\n",
    "generalHealth_type_values = {\"Poor\": 0, \"Fair\": 1, \"Good\": 2, \"Very good\": 3, \"Excellent\": 4}\n",
    "encoding: dict[str, dict[str, int]] = {\"GeneralHealth\": generalHealth_type_values}\n",
    "\n",
    "df.replace(encoding, inplace=True)\n",
    "df.shape"
   ]
  },
  {
   "cell_type": "code",
   "execution_count": 5,
   "metadata": {},
   "outputs": [
    {
     "data": {
      "text/plain": [
       "(380932, 40)"
      ]
     },
     "execution_count": 5,
     "metadata": {},
     "output_type": "execute_result"
    }
   ],
   "source": [
    "# LastCheckupTime - Ordinal Encoding based on Taxonomy\n",
    "lastCheckupValue_type_values = {\n",
    "    \"5 or more years ago\": 0,\n",
    "    \"Within past 5 years (2 years but less than 5 years ago)\": 1,\n",
    "    \"Within past 2 years (1 year but less than 2 years ago)\": 2,\n",
    "    \"Within past year (anytime less than 12 months ago)\": 3\n",
    "}\n",
    "\n",
    "encoding: dict[str, dict[str, int]] = {\"LastCheckupTime\": lastCheckupValue_type_values}\n",
    "df.replace(encoding, inplace=True)\n",
    "df.shape"
   ]
  },
  {
   "cell_type": "code",
   "execution_count": 6,
   "metadata": {},
   "outputs": [
    {
     "data": {
      "text/plain": [
       "(380932, 40)"
      ]
     },
     "execution_count": 6,
     "metadata": {},
     "output_type": "execute_result"
    }
   ],
   "source": [
    "# SmokerStatus - Ordinal Encoding based on Taxonomy \n",
    "smoker_status_dict = {'Never smoked': 0, 'Former smoker': 1, 'Current smoker - now smokes some days': 2, 'Current smoker - now smokes every day': 3}\n",
    "encoding: dict[str, dict[str, int]] = {\"SmokerStatus\": smoker_status_dict}\n",
    "df.replace(encoding, inplace=True)\n",
    "df.shape"
   ]
  },
  {
   "cell_type": "code",
   "execution_count": 7,
   "metadata": {},
   "outputs": [
    {
     "data": {
      "text/plain": [
       "(380932, 40)"
      ]
     },
     "execution_count": 7,
     "metadata": {},
     "output_type": "execute_result"
    }
   ],
   "source": [
    "# ECigaretteUsage - Ordinal Encoding based on Taxonomy\n",
    "e_cigarette_usage_dict = {'Never used e-cigarettes in my entire life': 0, 'Not at all (right now)': 1, 'Use them some days': 2, 'Use them every day': 3}\n",
    "encoding: dict[str, dict[str, int]] = {\"ECigaretteUsage\": e_cigarette_usage_dict}\n",
    "df.replace(encoding, inplace=True)\n",
    "df.shape"
   ]
  },
  {
   "cell_type": "code",
   "execution_count": 8,
   "metadata": {},
   "outputs": [
    {
     "data": {
      "text/plain": [
       "(380932, 40)"
      ]
     },
     "execution_count": 8,
     "metadata": {},
     "output_type": "execute_result"
    }
   ],
   "source": [
    "# AgeCategory - Ordinal Encoding based on taxonomy\n",
    "ageCategory_type_values = {\n",
    "    \"Age 18 to 24\": 0,\n",
    "    \"Age 25 to 29\": 1,\n",
    "    \"Age 30 to 34\": 2,\n",
    "    \"Age 35 to 39\": 3,\n",
    "    \"Age 40 to 44\": 4,\n",
    "    \"Age 45 to 49\": 5,\n",
    "    \"Age 50 to 54\": 6,\n",
    "    \"Age 55 to 59\": 7,\n",
    "    \"Age 60 to 64\": 8,\n",
    "    \"Age 65 to 69\": 9,\n",
    "    \"Age 70 to 74\": 10,\n",
    "    \"Age 75 to 79\": 11,\n",
    "    \"Age 80 or older\": 12\n",
    "}\n",
    "\n",
    "encoding: dict[str, dict[str, int]] = {\"AgeCategory\": ageCategory_type_values}\n",
    "df.replace(encoding, inplace=True)\n",
    "df.shape"
   ]
  },
  {
   "cell_type": "code",
   "execution_count": null,
   "metadata": {},
   "outputs": [],
   "source": [
    "TetanusLast10Tdap_dic = {\n",
    "   'No, did not receive any tetanus shot in the past 10 years': 0,\n",
    "   'Yes, received Tdap': 1,\n",
    "   'Yes, received tetanus shot but not sure what type' : 2,   \n",
    "   'Yes, received tetanus shot, but not Tdap': 3\n",
    "}  \n",
    "encoding: dict[str, dict[str, int]] = {\"TetanusLast10Tdap\": TetanusLast10Tdap_dic}\n",
    "df.replace(encoding, inplace=True)\n",
    "df.shape"
   ]
  },
  {
   "cell_type": "code",
   "execution_count": 5,
   "metadata": {},
   "outputs": [
    {
     "data": {
      "text/plain": [
       "array(['White only, Non-Hispanic', 'Black only, Non-Hispanic',\n",
       "       'Multiracial, Non-Hispanic', nan, 'Hispanic',\n",
       "       'Other race only, Non-Hispanic'], dtype=object)"
      ]
     },
     "execution_count": 5,
     "metadata": {},
     "output_type": "execute_result"
    }
   ],
   "source": [
    "RaceEthnicityCategory_dic = {\n",
    "       'White only': 0,\n",
    "       'Non-Hispanic': 1,\n",
    "       'Black only, Non-Hispanic': 2,\n",
    "       'Multiracial, Non-Hispanic': 3, \n",
    "       'Hispanic': 4,\n",
    "       'Other race only, Non-Hispanic': 5\n",
    "}\n",
    "encoding: dict[str, dict[str, int]] = {\"RaceEthnicityCategory\": RaceEthnicityCategory_dic}\n",
    "df.replace(encoding, inplace=True)\n",
    "df.shape"
   ]
  },
  {
   "cell_type": "code",
   "execution_count": 10,
   "metadata": {},
   "outputs": [
    {
     "data": {
      "text/plain": [
       "(380932, 49)"
      ]
     },
     "execution_count": 10,
     "metadata": {},
     "output_type": "execute_result"
    }
   ],
   "source": [
    "# RemovedTeeth - Ordinal Encoding based on Taxonomy\n",
    "RemovedTeeth_type_values = {\n",
    "    \"None of them\": 0,\n",
    "    \"1 to 5\": 1,\n",
    "    \"6 or more, but not all\": 2,\n",
    "    \"All\": 3,\n",
    "}\n",
    "encoding: dict[str, dict[str, int]] = {\"RemovedTeeth\": RemovedTeeth_type_values}\n",
    "df.replace(encoding, inplace=True)\n",
    "df.shape"
   ]
  },
  {
   "cell_type": "code",
   "execution_count": 6,
   "metadata": {},
   "outputs": [
    {
     "data": {
      "text/plain": [
       "array(['Yes', 'No', 'No, pre-diabetes or borderline diabetes', nan,\n",
       "       'Yes, but only during pregnancy (female)'], dtype=object)"
      ]
     },
     "execution_count": 6,
     "metadata": {},
     "output_type": "execute_result"
    }
   ],
   "source": [
    "# HadDiabetes - Dummify\n",
    "HadDiabetes_type_values = {\n",
    "    \"Yes\": 1,\n",
    "    \"No\": 0,\n",
    "    'No, pre-diabetes or borderline diabetes' : 2,\n",
    "    'Yes, but only during pregnancy (female)' : 3\n",
    "}\n",
    "encoding: dict[str, dict[str, int]] = {\"HadDiabetes\": HadDiabetes_type_values}\n",
    "df.replace(encoding, inplace=True)\n",
    "df.shape\n"
   ]
  },
  {
   "cell_type": "code",
   "execution_count": 12,
   "metadata": {},
   "outputs": [
    {
     "data": {
      "text/plain": [
       "(380932, 58)"
      ]
     },
     "execution_count": 12,
     "metadata": {},
     "output_type": "execute_result"
    }
   ],
   "source": [
    "# State\n",
    "import pandas as pd\n",
    "import numpy as np\n",
    "from math import radians, sin, cos, sqrt, atan2\n",
    "\n",
    "# Define the latitude and longitude for each state\n",
    "state_coordinates = {\n",
    "    'Alabama': [32.318231, -86.902298],\n",
    "    'Alaska': [63.588753, -154.493062],\n",
    "    'Arizona': [34.048928, -111.093731],\n",
    "    'Arkansas': [35.20105, -91.831833],\n",
    "    'California': [36.778261, -119.417932],\n",
    "    'Colorado': [39.550051, -105.782067],\n",
    "    'Connecticut': [41.603221, -73.087749],\n",
    "    'Delaware': [38.910832, -75.52767],\n",
    "    'District of Columbia': [38.895, -77.03667],\n",
    "    'Florida': [27.664827, -81.515754],\n",
    "    'Georgia': [32.157435, -82.907123],\n",
    "    'Hawaii': [19.898682, -155.665857],\n",
    "    'Idaho': [44.068202, -114.742041],\n",
    "    'Illinois': [40.633125, -89.398528],\n",
    "    'Indiana': [40.551217, -85.602364],\n",
    "    'Iowa': [41.878003, -93.097702],\n",
    "    'Kansas': [39.011902, -98.484246],\n",
    "    'Kentucky': [37.839333, -84.270018],\n",
    "    'Louisiana': [31.244823, -92.145024],\n",
    "    'Maine': [45.253783, -69.445469],\n",
    "    'Maryland': [39.045755, -76.641271],\n",
    "    'Massachusetts': [42.407211, -71.382437],\n",
    "    'Michigan': [44.314844, -85.602364],\n",
    "    'Minnesota': [46.729553, -94.6859],\n",
    "    'Mississippi': [32.354668, -89.398528],\n",
    "    'Missouri': [37.964253, -91.831833],\n",
    "    'Montana': [46.879682, -110.362566],\n",
    "    'Nebraska': [41.492537, -99.901813],\n",
    "    'Nevada': [38.80261, -116.419389],\n",
    "    'New Hampshire': [43.193852, -71.572395],\n",
    "    'New Jersey': [40.058324, -74.405661],\n",
    "    'New Mexico': [34.97273, -105.032363],\n",
    "    'New York': [43.299428, -74.217933],\n",
    "    'North Carolina': [35.759573, -79.0193],\n",
    "    'North Dakota': [47.551493, -101.002012],\n",
    "    'Ohio': [40.417287, -82.907123],\n",
    "    'Oklahoma': [35.007752, -97.092877],\n",
    "    'Oregon': [43.804133, -120.554201],\n",
    "    'Pennsylvania': [41.203322, -77.194525],\n",
    "    'Rhode Island': [41.580095, -71.477429],\n",
    "    'South Carolina': [33.836081, -81.163725],\n",
    "    'South Dakota': [43.969515, -99.901813],\n",
    "    'Tennessee': [35.517491, -86.580447],\n",
    "    'Texas': [31.968599, -99.901813],\n",
    "    'Utah': [39.32098, -111.093731],\n",
    "    'Vermont': [44.558803, -72.577841],\n",
    "    'Virginia': [37.431573, -78.656894],\n",
    "    'Washington': [47.751074, -120.740139],\n",
    "    'West Virginia': [38.597626, -80.454903],\n",
    "    'Wisconsin': [43.78444, -88.787868],\n",
    "    'Wyoming': [43.075968, -107.290284],\n",
    "    'Guam': [13.444304, 144.793732],\n",
    "    'Puerto Rico': [18.220833, -66.590149],\n",
    "    'Virgin Islands': [18.3434, -64.8672]\n",
    "}\n",
    "\n",
    "# Convert the dictionary into a DataFrame\n",
    "df_state = pd.DataFrame.from_dict(state_coordinates, orient='index', columns=['latitude', 'longitude'])\n",
    "# Convert the dictionary into a DataFrame\n",
    "df_state = pd.DataFrame.from_dict(state_coordinates, orient='index', columns=['latitude', 'longitude'])\n",
    "\n",
    "# Calculate the median latitude and longitude\n",
    "median_latitude = df_state['latitude'].median()\n",
    "median_longitude = df_state['longitude'].median()\n",
    "\n",
    "# Create a new column 'quadrant' based on the median latitude and longitude\n",
    "df_state['quadrant'] = np.select(\n",
    "    [\n",
    "        (df_state['latitude'] > median_latitude) & (df_state['longitude'] > median_longitude), \n",
    "        (df_state['latitude'] <= median_latitude) & (df_state['longitude'] > median_longitude),\n",
    "        (df_state['latitude'] > median_latitude) & (df_state['longitude'] <= median_longitude),\n",
    "        (df_state['latitude'] <= median_latitude) & (df_state['longitude'] <= median_longitude)\n",
    "    ], \n",
    "    [\n",
    "        'Q1', \n",
    "        'Q2',\n",
    "        'Q3',\n",
    "        'Q4'\n",
    "    ], \n",
    "    default='Unknown'\n",
    ")\n",
    "\n",
    "# Assuming df is your DataFrame and it has a column 'quadrant'\n",
    "df_state['quadrant'] = df_state['quadrant'].map({'Q1': 0, 'Q2': 1, 'Q3': 2, 'Q4': 3})\n",
    "\n",
    "# Define the coordinates for each quadrant\n",
    "quadrant_coordinates = {\n",
    "    'Q1': [median_latitude, median_longitude],\n",
    "    'Q2': [median_latitude, -median_longitude],\n",
    "    'Q3': [-median_latitude, -median_longitude],\n",
    "    'Q4': [-median_latitude, median_longitude]\n",
    "}\n",
    "\n",
    "def haversine(lat1, lon1, lat2, lon2):\n",
    "    # Convert latitude and longitude from degrees to radians\n",
    "    lat1, lon1, lat2, lon2 = map(radians, [lat1, lon1, lat2, lon2])\n",
    "\n",
    "    # Haversine formula\n",
    "    dlon = lon2 - lon1\n",
    "    dlat = lat2 - lat1\n",
    "    a = sin(dlat/2)**2 + cos(lat1) * cos(lat2) * sin(dlon/2)**2\n",
    "    c = 2 * atan2(sqrt(a), sqrt(1 - a))\n",
    "\n",
    "    # Radius of earth in kilometers. Use 3956 for miles\n",
    "    r = 6371.0\n",
    "\n",
    "    # Calculate the distance\n",
    "    distance = r * c\n",
    "\n",
    "    return distance\n",
    "\n",
    "# Assuming df is your DataFrame and it has a column 'state'\n",
    "# Merge the coordinates into your DataFrame\n",
    "df = pd.merge(df, df_state, left_on='State', right_index=True)\n",
    "\n",
    "# Calculate the distance to each quadrant\n",
    "for quadrant, (lat, lon) in quadrant_coordinates.items():\n",
    "    df[f'distance_to_{quadrant}'] = df.apply(lambda row: haversine(row['latitude'], row['longitude'], lat, lon), axis=1)\n",
    "\n",
    "# Drop the 'state' column\n",
    "df = df.drop(columns=['State'])\n",
    "df = df.drop(columns=['latitude'])\n",
    "df = df.drop(columns=['longitude'])\n",
    "\n",
    "# Define the number of unique categories\n",
    "n_categories = df['quadrant'].nunique()\n",
    "\n",
    "# Create new columns for the sine and cosine transformation of the quadrant\n",
    "df['quadrant_sin'] = np.sin(2 * np.pi * df['quadrant'] / n_categories)\n",
    "df['quadrant_cos'] = np.cos(2 * np.pi * df['quadrant'] / n_categories)\n",
    "df = df.drop(columns=['quadrant'])\n",
    "df.shape"
   ]
  },
  {
   "cell_type": "code",
   "execution_count": 14,
   "metadata": {},
   "outputs": [],
   "source": [
    "df.to_csv(\"./DataEncoding.csv\", index=False)"
   ]
  }
 ],
 "metadata": {
  "kernelspec": {
   "display_name": "Python 3",
   "language": "python",
   "name": "python3"
  },
  "language_info": {
   "codemirror_mode": {
    "name": "ipython",
    "version": 3
   },
   "file_extension": ".py",
   "mimetype": "text/x-python",
   "name": "python",
   "nbconvert_exporter": "python",
   "pygments_lexer": "ipython3",
   "version": "3.10.12"
  }
 },
 "nbformat": 4,
 "nbformat_minor": 2
}
