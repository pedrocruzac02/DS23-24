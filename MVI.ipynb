{
 "cells": [
  {
   "cell_type": "code",
   "execution_count": 1,
   "metadata": {},
   "outputs": [
    {
     "data": {
      "text/plain": [
       "(380932, 45)"
      ]
     },
     "execution_count": 1,
     "metadata": {},
     "output_type": "execute_result"
    }
   ],
   "source": [
    "from pandas import read_csv, DataFrame\n",
    "\n",
    "filename = \"./DataEncoding.csv\"\n",
    "file_tag = \"class_pos_covid\"\n",
    "data: DataFrame = read_csv(filename)\n",
    "data.shape"
   ]
  },
  {
   "cell_type": "markdown",
   "metadata": {},
   "source": [
    "**Approaches Missing Values Impotation**\\\n",
    "1)\\\n",
    "Numeric: 'PhysicalHealthDays','MentalHealthDays' -> median, Others: mean\\\n",
    "Binary: most_frequent\n",
    "Symbolic: most_frequent\\\n",
    "2)\\\n",
    "Numeric: 'SleepHours','HeightInMeters' -> mean, Others: median\n",
    "Binary: drop\n",
    "Symbolic:"
   ]
  },
  {
   "cell_type": "code",
   "execution_count": 2,
   "metadata": {},
   "outputs": [],
   "source": [
    "from numpy import ndarray\n",
    "from pandas import concat,DataFrame\n",
    "from sklearn.impute import SimpleImputer, KNNImputer\n",
    "from library.dslabs_functions import get_variable_types\n",
    "\n",
    "\n",
    "def mvi_by_filling(data: DataFrame, strategy: str = \"frequent\") -> DataFrame:\n",
    "    df: DataFrame\n",
    "    variables: dict = get_variable_types(data)\n",
    "    stg_num, v_num = \"mean\", -1\n",
    "    stg_sym, v_sym = \"most_frequent\", \"NA\"\n",
    "    stg_bool, v_bool = \"most_frequent\", False\n",
    "    if strategy != \"knn\":\n",
    "        lst_dfs: list = []\n",
    "        if strategy == \"constant\":\n",
    "            stg_num, stg_sym, stg_bool = \"constant\", \"constant\", \"constant\"\n",
    "        if len(variables[\"numeric\"]) > 0:\n",
    "            imp = SimpleImputer(strategy=stg_num, fill_value=v_num, copy=True)\n",
    "            tmp_nr = DataFrame(\n",
    "                imp.fit_transform(data[variables[\"numeric\"]]),\n",
    "                columns=variables[\"numeric\"],\n",
    "            )\n",
    "            lst_dfs.append(tmp_nr)\n",
    "        if len(variables[\"symbolic\"]) > 0:\n",
    "            imp = SimpleImputer(strategy=stg_sym, fill_value=v_sym, copy=True)\n",
    "            tmp_sb = DataFrame(\n",
    "                imp.fit_transform(data[variables[\"symbolic\"]]),\n",
    "                columns=variables[\"symbolic\"],\n",
    "            )\n",
    "            lst_dfs.append(tmp_sb)\n",
    "        if len(variables[\"binary\"]) > 0:\n",
    "            imp = SimpleImputer(strategy=stg_bool, fill_value=v_bool, copy=True)\n",
    "            tmp_bool = DataFrame(\n",
    "                imp.fit_transform(data[variables[\"binary\"]]),\n",
    "                columns=variables[\"binary\"],\n",
    "            )\n",
    "            lst_dfs.append(tmp_bool)\n",
    "        df = concat(lst_dfs, axis=1)\n",
    "    else:\n",
    "        imp = KNNImputer(n_neighbors=5)\n",
    "        imp.fit(data)\n",
    "        ar: ndarray = imp.transform(data)\n",
    "        df = DataFrame(ar, columns=data.columns)\n",
    "    return df"
   ]
  },
  {
   "cell_type": "code",
   "execution_count": 3,
   "metadata": {},
   "outputs": [
    {
     "data": {
      "text/plain": [
       "(380932, 45)"
      ]
     },
     "execution_count": 3,
     "metadata": {},
     "output_type": "execute_result"
    }
   ],
   "source": [
    "# Create df for approach #1\n",
    "df_Approach1 = data.copy()\n",
    "df_Approach1.shape"
   ]
  },
  {
   "cell_type": "code",
   "execution_count": 4,
   "metadata": {},
   "outputs": [],
   "source": [
    "##################################################################   APPROACH #1  #########################################################################"
   ]
  },
  {
   "cell_type": "code",
   "execution_count": 5,
   "metadata": {},
   "outputs": [
    {
     "data": {
      "text/plain": [
       "(380932, 45)"
      ]
     },
     "execution_count": 5,
     "metadata": {},
     "output_type": "execute_result"
    }
   ],
   "source": [
    "#Numeric Variables \n",
    "import numpy as np\n",
    "median = ['PhysicalHealthDays', 'MentalHealthDays']\n",
    "for var in median:\n",
    "    imp = SimpleImputer(strategy=\"median\")\n",
    "    df_Approach1[var] = imp.fit_transform(df_Approach1[[var]])\n",
    "\n",
    "mean = ['SleepHours', 'HeightInMeters', 'WeightInKilograms']\n",
    "for var in mean:\n",
    "    imp = SimpleImputer(strategy=\"mean\")\n",
    "    df_Approach1[var] = imp.fit_transform(df_Approach1[[var]])\n",
    "\n",
    "df_Approach1['BMI'] = df_Approach1.apply(lambda row: row['WeightInKilograms'] / (row['HeightInMeters'] ** 2) if np.isnan(row['BMI']) else row['BMI'],axis=1)\n",
    "df_Approach1.shape"
   ]
  },
  {
   "cell_type": "code",
   "execution_count": 6,
   "metadata": {},
   "outputs": [
    {
     "data": {
      "text/plain": [
       "(380932, 45)"
      ]
     },
     "execution_count": 6,
     "metadata": {},
     "output_type": "execute_result"
    }
   ],
   "source": [
    "# Binary Variables \n",
    "binary =['Sex','PhysicalActivities', 'HadHeartAttack', 'HadAngina', 'HadStroke', 'HadAsthma', 'HadSkinCancer', 'HadCOPD', 'HadDepressiveDisorder', 'HadKidneyDisease', 'HadArthritis', 'DeafOrHardOfHearing', 'BlindOrVisionDifficulty', 'DifficultyConcentrating', 'DifficultyWalking', 'DifficultyDressingBathing', 'DifficultyErrands', 'ChestScan', 'AlcoholDrinkers', 'HIVTesting', 'FluVaxLast12', 'PneumoVaxEver', 'HighRiskLastYear']\n",
    "for var in binary:\n",
    "    imp = SimpleImputer(strategy=\"most_frequent\")\n",
    "    df_Approach1[var] = imp.fit_transform(df_Approach1[[var]])\n",
    "df_Approach1.shape"
   ]
  },
  {
   "cell_type": "code",
   "execution_count": 7,
   "metadata": {},
   "outputs": [
    {
     "data": {
      "text/plain": [
       "(380932, 45)"
      ]
     },
     "execution_count": 7,
     "metadata": {},
     "output_type": "execute_result"
    }
   ],
   "source": [
    "# Symbolic Variables\n",
    "symbolic = ['GeneralHealth', 'LastCheckupTime', 'RemovedTeeth', 'SmokerStatus', 'ECigaretteUsage', 'AgeCategory', 'HadDiabetes', 'RaceEthnicityCategory','TetanusLast10Tdap']\n",
    "for var in symbolic:\n",
    "    imp = SimpleImputer(strategy=\"most_frequent\")\n",
    "    df_Approach1[var] = imp.fit_transform(df_Approach1[[var]])\n",
    "df_Approach1.shape"
   ]
  },
  {
   "cell_type": "code",
   "execution_count": 8,
   "metadata": {},
   "outputs": [],
   "source": [
    "df_Approach1.to_csv(\"./MVI-Approach1.csv\", index=False)"
   ]
  },
  {
   "cell_type": "code",
   "execution_count": 9,
   "metadata": {},
   "outputs": [
    {
     "name": "stdout",
     "output_type": "stream",
     "text": [
      "{'GaussianNB': GaussianNB(), 'BernoulliNB': BernoulliNB()}\n",
      "{'accuracy': 0.6464385719285964, 'recall': 0.4164717874917551, 'precision': 0.39878850515315933, 'auc': 0.5788460808303746, 'f1': 0.40743836801736405}\n",
      "1\n",
      "5\n",
      "10\n",
      "15\n",
      "20\n",
      "25\n",
      "{'accuracy': 0.6091179558977949, 'recall': 0.33288361216046053, 'precision': 0.33121532128154646, 'auc': 0.5279263722270805, 'f1': 0.33204737125426165}\n"
     ]
    },
    {
     "data": {
      "image/png": "[encoded data removed]",
      "text/plain": [
       "<Figure size 600x450 with 1 Axes>"
      ]
     },
     "metadata": {},
     "output_type": "display_data"
    }
   ],
   "source": [
    "# Evaluation Approach#1\n",
    "from numpy import ndarray\n",
    "from pandas import DataFrame, read_csv\n",
    "from matplotlib.pyplot import savefig, show, figure\n",
    "from library.dslabs_functions import plot_multibar_chart, CLASS_EVAL_METRICS, run_KNN,run_NB\n",
    "from sklearn.model_selection import train_test_split\n",
    "\n",
    "\n",
    "# Split the DataFrame into train and test\n",
    "train, test = train_test_split(df_Approach1, test_size=0.3, random_state=42)\n",
    "\n",
    "def evaluate_approach(\n",
    "    train: DataFrame, test: DataFrame, target: str = \"class\", metric: str = \"accuracy\"\n",
    ") -> dict[str, list]:\n",
    "    trnY = train.pop(target).values\n",
    "    trnX: ndarray = train.values\n",
    "    tstY = test.pop(target).values\n",
    "    tstX: ndarray = test.values\n",
    "    eval: dict[str, list] = {}\n",
    "\n",
    "    eval_NB: dict[str, float] = run_NB(trnX, trnY, tstX, tstY, metric=metric)\n",
    "    eval_KNN: dict[str, float] = run_KNN(trnX, trnY, tstX, tstY, metric=metric)\n",
    "    if eval_NB != {} and eval_KNN != {}:\n",
    "        for met in CLASS_EVAL_METRICS:\n",
    "            eval[met] = [eval_NB[met], eval_KNN[met]]\n",
    "    return eval\n",
    "\n",
    "\n",
    "target = \"CovidPos\"\n",
    "file_tag = \"MVI-Approach1\"\n",
    "#train: DataFrame = read_csv(\"./data_MVI-Approach1_train.csv\")\n",
    "#test: DataFrame = read_csv(\"./data_MVI-Approach1_test.csv\")\n",
    "\n",
    "figure()\n",
    "eval: dict[str, list] = evaluate_approach(train, test, target=target, metric=\"recall\")\n",
    "plot_multibar_chart(\n",
    "    [\"NB\", \"KNN\"], eval, title=f\"{file_tag} evaluation\", percentage=True\n",
    ")\n",
    "savefig(f\"./{file_tag}_eval.png\")\n",
    "show()"
   ]
  },
  {
   "cell_type": "code",
   "execution_count": 10,
   "metadata": {},
   "outputs": [],
   "source": [
    "##################################################################   APPROACH #2  #########################################################################"
   ]
  },
  {
   "cell_type": "code",
   "execution_count": 11,
   "metadata": {},
   "outputs": [
    {
     "data": {
      "text/plain": [
       "(380932, 45)"
      ]
     },
     "execution_count": 11,
     "metadata": {},
     "output_type": "execute_result"
    }
   ],
   "source": [
    "# Create df for approach #2\n",
    "df_Approach2 = data.copy()\n",
    "df_Approach2.shape"
   ]
  },
  {
   "cell_type": "code",
   "execution_count": 12,
   "metadata": {},
   "outputs": [
    {
     "data": {
      "text/plain": [
       "(237630, 45)"
      ]
     },
     "execution_count": 12,
     "metadata": {},
     "output_type": "execute_result"
    }
   ],
   "source": [
    "from library.dslabs_functions import mvi_by_dropping\n",
    "df_Approach2.dropna(how=\"any\", inplace=True)\n",
    "df_Approach2.shape"
   ]
  },
  {
   "cell_type": "code",
   "execution_count": 13,
   "metadata": {},
   "outputs": [],
   "source": [
    "df_Approach2.to_csv(\"./MVI-Approach2.csv\", index=False)"
   ]
  },
  {
   "cell_type": "code",
   "execution_count": 14,
   "metadata": {},
   "outputs": [
    {
     "name": "stdout",
     "output_type": "stream",
     "text": [
      "{'GaussianNB': GaussianNB(), 'BernoulliNB': BernoulliNB()}\n",
      "{'accuracy': 0.6465653887696559, 'recall': 0.4125830959164293, 'precision': 0.40387654550525237, 'auc': 0.5786262549999633, 'f1': 0.4081833983182225}\n",
      "1\n",
      "5\n",
      "10\n",
      "15\n",
      "20\n",
      "25\n",
      "{'accuracy': 0.6074850257402965, 'recall': 0.33774928774928775, 'precision': 0.33634386230376395, 'auc': 0.529164516259123, 'f1': 0.3370451099317665}\n"
     ]
    },
    {
     "data": {
      "image/png": "[encoded data removed]",
      "text/plain": [
       "<Figure size 600x450 with 1 Axes>"
      ]
     },
     "metadata": {},
     "output_type": "display_data"
    }
   ],
   "source": [
    "# Evaluation Approach#1\n",
    "from numpy import ndarray\n",
    "from pandas import DataFrame, read_csv\n",
    "from matplotlib.pyplot import savefig, show, figure\n",
    "from library.dslabs_functions import plot_multibar_chart, CLASS_EVAL_METRICS, run_KNN,run_NB\n",
    "from sklearn.model_selection import train_test_split\n",
    "\n",
    "\n",
    "# Split the DataFrame into train and test\n",
    "train, test = train_test_split(df_Approach2, test_size=0.3, random_state=42)\n",
    "\n",
    "def evaluate_approach(\n",
    "    train: DataFrame, test: DataFrame, target: str = \"class\", metric: str = \"accuracy\"\n",
    ") -> dict[str, list]:\n",
    "    trnY = train.pop(target).values\n",
    "    trnX: ndarray = train.values\n",
    "    tstY = test.pop(target).values\n",
    "    tstX: ndarray = test.values\n",
    "    eval: dict[str, list] = {}\n",
    "\n",
    "    eval_NB: dict[str, float] = run_NB(trnX, trnY, tstX, tstY, metric=metric)\n",
    "    eval_KNN: dict[str, float] = run_KNN(trnX, trnY, tstX, tstY, metric=metric)\n",
    "    if eval_NB != {} and eval_KNN != {}:\n",
    "        for met in CLASS_EVAL_METRICS:\n",
    "            eval[met] = [eval_NB[met], eval_KNN[met]]\n",
    "    return eval\n",
    "\n",
    "\n",
    "target = \"CovidPos\"\n",
    "file_tag = \"MVI-Approach2\"\n",
    "#train: DataFrame = read_csv(\"./data_MVI-Approach1_train.csv\")\n",
    "#test: DataFrame = read_csv(\"./data_MVI-Approach1_test.csv\")\n",
    "\n",
    "figure()\n",
    "eval: dict[str, list] = evaluate_approach(train, test, target=target, metric=\"recall\")\n",
    "plot_multibar_chart(\n",
    "    [\"NB\", \"KNN\"], eval, title=f\"{file_tag} evaluation\", percentage=True\n",
    ")\n",
    "savefig(f\"./{file_tag}_eval.png\")\n",
    "show()"
   ]
  }
 ],
 "metadata": {
  "kernelspec": {
   "display_name": "Python 3",
   "language": "python",
   "name": "python3"
  },
  "language_info": {
   "codemirror_mode": {
    "name": "ipython",
    "version": 3
   },
   "file_extension": ".py",
   "mimetype": "text/x-python",
   "name": "python",
   "nbconvert_exporter": "python",
   "pygments_lexer": "ipython3",
   "version": "3.10.12"
  }
 },
 "nbformat": 4,
 "nbformat_minor": 2
}
